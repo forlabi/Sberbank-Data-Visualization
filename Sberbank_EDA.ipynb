{
 "cells": [
  {
   "cell_type": "code",
   "execution_count": 15,
   "metadata": {},
   "outputs": [],
   "source": [
    "#Importing Necessary Libraries\n",
    "import pandas as pd\n",
    "import numpy as np\n",
    "import matplotlib.pyplot as plt\n",
    "import seaborn as sns\n",
    "from datetime import datetime as dt\n",
    "sns.set_style('darkgrid')\n",
    "import warnings\n",
    "warnings.filterwarnings('ignore')"
   ]
  },
  {
   "cell_type": "code",
   "execution_count": 16,
   "metadata": {},
   "outputs": [],
   "source": [
    "#Importing the data\n",
    "train=pd.read_csv('sbank/train.csv', parse_dates=['timestamp']) "
   ]
  },
  {
   "cell_type": "code",
   "execution_count": 17,
   "metadata": {},
   "outputs": [
    {
     "data": {
      "text/html": [
       "<div>\n",
       "<style scoped>\n",
       "    .dataframe tbody tr th:only-of-type {\n",
       "        vertical-align: middle;\n",
       "    }\n",
       "\n",
       "    .dataframe tbody tr th {\n",
       "        vertical-align: top;\n",
       "    }\n",
       "\n",
       "    .dataframe thead th {\n",
       "        text-align: right;\n",
       "    }\n",
       "</style>\n",
       "<table border=\"1\" class=\"dataframe\">\n",
       "  <thead>\n",
       "    <tr style=\"text-align: right;\">\n",
       "      <th></th>\n",
       "      <th>id</th>\n",
       "      <th>timestamp</th>\n",
       "      <th>full_sq</th>\n",
       "      <th>life_sq</th>\n",
       "      <th>floor</th>\n",
       "      <th>max_floor</th>\n",
       "      <th>material</th>\n",
       "      <th>build_year</th>\n",
       "      <th>num_room</th>\n",
       "      <th>kitch_sq</th>\n",
       "      <th>...</th>\n",
       "      <th>cafe_count_5000_price_2500</th>\n",
       "      <th>cafe_count_5000_price_4000</th>\n",
       "      <th>cafe_count_5000_price_high</th>\n",
       "      <th>big_church_count_5000</th>\n",
       "      <th>church_count_5000</th>\n",
       "      <th>mosque_count_5000</th>\n",
       "      <th>leisure_count_5000</th>\n",
       "      <th>sport_count_5000</th>\n",
       "      <th>market_count_5000</th>\n",
       "      <th>price_doc</th>\n",
       "    </tr>\n",
       "  </thead>\n",
       "  <tbody>\n",
       "    <tr>\n",
       "      <td>0</td>\n",
       "      <td>1</td>\n",
       "      <td>2011-08-20</td>\n",
       "      <td>43</td>\n",
       "      <td>27.0</td>\n",
       "      <td>4.0</td>\n",
       "      <td>NaN</td>\n",
       "      <td>NaN</td>\n",
       "      <td>NaN</td>\n",
       "      <td>NaN</td>\n",
       "      <td>NaN</td>\n",
       "      <td>...</td>\n",
       "      <td>9</td>\n",
       "      <td>4</td>\n",
       "      <td>0</td>\n",
       "      <td>13</td>\n",
       "      <td>22</td>\n",
       "      <td>1</td>\n",
       "      <td>0</td>\n",
       "      <td>52</td>\n",
       "      <td>4</td>\n",
       "      <td>5850000</td>\n",
       "    </tr>\n",
       "    <tr>\n",
       "      <td>1</td>\n",
       "      <td>2</td>\n",
       "      <td>2011-08-23</td>\n",
       "      <td>34</td>\n",
       "      <td>19.0</td>\n",
       "      <td>3.0</td>\n",
       "      <td>NaN</td>\n",
       "      <td>NaN</td>\n",
       "      <td>NaN</td>\n",
       "      <td>NaN</td>\n",
       "      <td>NaN</td>\n",
       "      <td>...</td>\n",
       "      <td>15</td>\n",
       "      <td>3</td>\n",
       "      <td>0</td>\n",
       "      <td>15</td>\n",
       "      <td>29</td>\n",
       "      <td>1</td>\n",
       "      <td>10</td>\n",
       "      <td>66</td>\n",
       "      <td>14</td>\n",
       "      <td>6000000</td>\n",
       "    </tr>\n",
       "    <tr>\n",
       "      <td>2</td>\n",
       "      <td>3</td>\n",
       "      <td>2011-08-27</td>\n",
       "      <td>43</td>\n",
       "      <td>29.0</td>\n",
       "      <td>2.0</td>\n",
       "      <td>NaN</td>\n",
       "      <td>NaN</td>\n",
       "      <td>NaN</td>\n",
       "      <td>NaN</td>\n",
       "      <td>NaN</td>\n",
       "      <td>...</td>\n",
       "      <td>10</td>\n",
       "      <td>3</td>\n",
       "      <td>0</td>\n",
       "      <td>11</td>\n",
       "      <td>27</td>\n",
       "      <td>0</td>\n",
       "      <td>4</td>\n",
       "      <td>67</td>\n",
       "      <td>10</td>\n",
       "      <td>5700000</td>\n",
       "    </tr>\n",
       "    <tr>\n",
       "      <td>3</td>\n",
       "      <td>4</td>\n",
       "      <td>2011-09-01</td>\n",
       "      <td>89</td>\n",
       "      <td>50.0</td>\n",
       "      <td>9.0</td>\n",
       "      <td>NaN</td>\n",
       "      <td>NaN</td>\n",
       "      <td>NaN</td>\n",
       "      <td>NaN</td>\n",
       "      <td>NaN</td>\n",
       "      <td>...</td>\n",
       "      <td>11</td>\n",
       "      <td>2</td>\n",
       "      <td>1</td>\n",
       "      <td>4</td>\n",
       "      <td>4</td>\n",
       "      <td>0</td>\n",
       "      <td>0</td>\n",
       "      <td>26</td>\n",
       "      <td>3</td>\n",
       "      <td>13100000</td>\n",
       "    </tr>\n",
       "    <tr>\n",
       "      <td>4</td>\n",
       "      <td>5</td>\n",
       "      <td>2011-09-05</td>\n",
       "      <td>77</td>\n",
       "      <td>77.0</td>\n",
       "      <td>4.0</td>\n",
       "      <td>NaN</td>\n",
       "      <td>NaN</td>\n",
       "      <td>NaN</td>\n",
       "      <td>NaN</td>\n",
       "      <td>NaN</td>\n",
       "      <td>...</td>\n",
       "      <td>319</td>\n",
       "      <td>108</td>\n",
       "      <td>17</td>\n",
       "      <td>135</td>\n",
       "      <td>236</td>\n",
       "      <td>2</td>\n",
       "      <td>91</td>\n",
       "      <td>195</td>\n",
       "      <td>14</td>\n",
       "      <td>16331452</td>\n",
       "    </tr>\n",
       "    <tr>\n",
       "      <td>5</td>\n",
       "      <td>6</td>\n",
       "      <td>2011-09-06</td>\n",
       "      <td>67</td>\n",
       "      <td>46.0</td>\n",
       "      <td>14.0</td>\n",
       "      <td>NaN</td>\n",
       "      <td>NaN</td>\n",
       "      <td>NaN</td>\n",
       "      <td>NaN</td>\n",
       "      <td>NaN</td>\n",
       "      <td>...</td>\n",
       "      <td>62</td>\n",
       "      <td>14</td>\n",
       "      <td>1</td>\n",
       "      <td>53</td>\n",
       "      <td>78</td>\n",
       "      <td>1</td>\n",
       "      <td>20</td>\n",
       "      <td>113</td>\n",
       "      <td>17</td>\n",
       "      <td>9100000</td>\n",
       "    </tr>\n",
       "    <tr>\n",
       "      <td>6</td>\n",
       "      <td>7</td>\n",
       "      <td>2011-09-08</td>\n",
       "      <td>25</td>\n",
       "      <td>14.0</td>\n",
       "      <td>10.0</td>\n",
       "      <td>NaN</td>\n",
       "      <td>NaN</td>\n",
       "      <td>NaN</td>\n",
       "      <td>NaN</td>\n",
       "      <td>NaN</td>\n",
       "      <td>...</td>\n",
       "      <td>81</td>\n",
       "      <td>16</td>\n",
       "      <td>3</td>\n",
       "      <td>38</td>\n",
       "      <td>80</td>\n",
       "      <td>1</td>\n",
       "      <td>27</td>\n",
       "      <td>127</td>\n",
       "      <td>8</td>\n",
       "      <td>5500000</td>\n",
       "    </tr>\n",
       "    <tr>\n",
       "      <td>7</td>\n",
       "      <td>8</td>\n",
       "      <td>2011-09-09</td>\n",
       "      <td>44</td>\n",
       "      <td>44.0</td>\n",
       "      <td>5.0</td>\n",
       "      <td>NaN</td>\n",
       "      <td>NaN</td>\n",
       "      <td>NaN</td>\n",
       "      <td>NaN</td>\n",
       "      <td>NaN</td>\n",
       "      <td>...</td>\n",
       "      <td>9</td>\n",
       "      <td>4</td>\n",
       "      <td>0</td>\n",
       "      <td>11</td>\n",
       "      <td>18</td>\n",
       "      <td>1</td>\n",
       "      <td>0</td>\n",
       "      <td>47</td>\n",
       "      <td>4</td>\n",
       "      <td>2000000</td>\n",
       "    </tr>\n",
       "    <tr>\n",
       "      <td>8</td>\n",
       "      <td>9</td>\n",
       "      <td>2011-09-10</td>\n",
       "      <td>42</td>\n",
       "      <td>27.0</td>\n",
       "      <td>5.0</td>\n",
       "      <td>NaN</td>\n",
       "      <td>NaN</td>\n",
       "      <td>NaN</td>\n",
       "      <td>NaN</td>\n",
       "      <td>NaN</td>\n",
       "      <td>...</td>\n",
       "      <td>19</td>\n",
       "      <td>8</td>\n",
       "      <td>1</td>\n",
       "      <td>18</td>\n",
       "      <td>34</td>\n",
       "      <td>1</td>\n",
       "      <td>3</td>\n",
       "      <td>85</td>\n",
       "      <td>11</td>\n",
       "      <td>5300000</td>\n",
       "    </tr>\n",
       "    <tr>\n",
       "      <td>9</td>\n",
       "      <td>10</td>\n",
       "      <td>2011-09-13</td>\n",
       "      <td>36</td>\n",
       "      <td>21.0</td>\n",
       "      <td>9.0</td>\n",
       "      <td>NaN</td>\n",
       "      <td>NaN</td>\n",
       "      <td>NaN</td>\n",
       "      <td>NaN</td>\n",
       "      <td>NaN</td>\n",
       "      <td>...</td>\n",
       "      <td>19</td>\n",
       "      <td>13</td>\n",
       "      <td>0</td>\n",
       "      <td>10</td>\n",
       "      <td>20</td>\n",
       "      <td>1</td>\n",
       "      <td>3</td>\n",
       "      <td>67</td>\n",
       "      <td>1</td>\n",
       "      <td>2000000</td>\n",
       "    </tr>\n",
       "  </tbody>\n",
       "</table>\n",
       "<p>10 rows × 292 columns</p>\n",
       "</div>"
      ],
      "text/plain": [
       "   id  timestamp  full_sq  life_sq  floor  max_floor  material  build_year  \\\n",
       "0   1 2011-08-20       43     27.0    4.0        NaN       NaN         NaN   \n",
       "1   2 2011-08-23       34     19.0    3.0        NaN       NaN         NaN   \n",
       "2   3 2011-08-27       43     29.0    2.0        NaN       NaN         NaN   \n",
       "3   4 2011-09-01       89     50.0    9.0        NaN       NaN         NaN   \n",
       "4   5 2011-09-05       77     77.0    4.0        NaN       NaN         NaN   \n",
       "5   6 2011-09-06       67     46.0   14.0        NaN       NaN         NaN   \n",
       "6   7 2011-09-08       25     14.0   10.0        NaN       NaN         NaN   \n",
       "7   8 2011-09-09       44     44.0    5.0        NaN       NaN         NaN   \n",
       "8   9 2011-09-10       42     27.0    5.0        NaN       NaN         NaN   \n",
       "9  10 2011-09-13       36     21.0    9.0        NaN       NaN         NaN   \n",
       "\n",
       "   num_room  kitch_sq  ...  cafe_count_5000_price_2500  \\\n",
       "0       NaN       NaN  ...                           9   \n",
       "1       NaN       NaN  ...                          15   \n",
       "2       NaN       NaN  ...                          10   \n",
       "3       NaN       NaN  ...                          11   \n",
       "4       NaN       NaN  ...                         319   \n",
       "5       NaN       NaN  ...                          62   \n",
       "6       NaN       NaN  ...                          81   \n",
       "7       NaN       NaN  ...                           9   \n",
       "8       NaN       NaN  ...                          19   \n",
       "9       NaN       NaN  ...                          19   \n",
       "\n",
       "  cafe_count_5000_price_4000 cafe_count_5000_price_high  \\\n",
       "0                          4                          0   \n",
       "1                          3                          0   \n",
       "2                          3                          0   \n",
       "3                          2                          1   \n",
       "4                        108                         17   \n",
       "5                         14                          1   \n",
       "6                         16                          3   \n",
       "7                          4                          0   \n",
       "8                          8                          1   \n",
       "9                         13                          0   \n",
       "\n",
       "   big_church_count_5000  church_count_5000  mosque_count_5000  \\\n",
       "0                     13                 22                  1   \n",
       "1                     15                 29                  1   \n",
       "2                     11                 27                  0   \n",
       "3                      4                  4                  0   \n",
       "4                    135                236                  2   \n",
       "5                     53                 78                  1   \n",
       "6                     38                 80                  1   \n",
       "7                     11                 18                  1   \n",
       "8                     18                 34                  1   \n",
       "9                     10                 20                  1   \n",
       "\n",
       "   leisure_count_5000  sport_count_5000  market_count_5000  price_doc  \n",
       "0                   0                52                  4    5850000  \n",
       "1                  10                66                 14    6000000  \n",
       "2                   4                67                 10    5700000  \n",
       "3                   0                26                  3   13100000  \n",
       "4                  91               195                 14   16331452  \n",
       "5                  20               113                 17    9100000  \n",
       "6                  27               127                  8    5500000  \n",
       "7                   0                47                  4    2000000  \n",
       "8                   3                85                 11    5300000  \n",
       "9                   3                67                  1    2000000  \n",
       "\n",
       "[10 rows x 292 columns]"
      ]
     },
     "execution_count": 17,
     "metadata": {},
     "output_type": "execute_result"
    }
   ],
   "source": [
    "train.head(10) #Printing out the first 10 rows of our data"
   ]
  },
  {
   "cell_type": "code",
   "execution_count": 18,
   "metadata": {},
   "outputs": [
    {
     "data": {
      "text/plain": [
       "(30471, 292)"
      ]
     },
     "execution_count": 18,
     "metadata": {},
     "output_type": "execute_result"
    }
   ],
   "source": [
    "train.shape"
   ]
  },
  {
   "cell_type": "markdown",
   "metadata": {},
   "source": [
    "### THE TARGET : 'Price_doc'"
   ]
  },
  {
   "cell_type": "markdown",
   "metadata": {},
   "source": [
    "This is the variable to be predicted: the target variable. It is the prices of various housing units in the Russian Rubles currency."
   ]
  },
  {
   "cell_type": "code",
   "execution_count": 19,
   "metadata": {},
   "outputs": [],
   "source": [
    "#Taking the target varible\n",
    "target  = train.price_doc"
   ]
  },
  {
   "cell_type": "code",
   "execution_count": 20,
   "metadata": {},
   "outputs": [
    {
     "data": {
      "text/plain": [
       "count    3.047100e+04\n",
       "mean     7.123035e+06\n",
       "std      4.780111e+06\n",
       "min      1.000000e+05\n",
       "25%      4.740002e+06\n",
       "50%      6.274411e+06\n",
       "75%      8.300000e+06\n",
       "max      1.111111e+08\n",
       "Name: price_doc, dtype: float64"
      ]
     },
     "execution_count": 20,
     "metadata": {},
     "output_type": "execute_result"
    }
   ],
   "source": [
    "#Target disribution\n",
    "target.describe()"
   ]
  },
  {
   "cell_type": "code",
   "execution_count": null,
   "metadata": {},
   "outputs": [
    {
     "data": {
      "text/plain": [
       "<matplotlib.axes._subplots.AxesSubplot at 0x841ea10>"
      ]
     },
     "execution_count": 21,
     "metadata": {},
     "output_type": "execute_result"
    }
   ],
   "source": [
    "#Target disribution plot\n",
    "plt.figure(figsize=(8,5))\n",
    "sns.boxplot(target ,color='g')"
   ]
  },
  {
   "cell_type": "markdown",
   "metadata": {},
   "source": [
    "# The Timestamp Feature"
   ]
  },
  {
   "cell_type": "markdown",
   "metadata": {},
   "source": [
    "- This feature carries the date on which each transaction of the housing units took place.\n"
   ]
  },
  {
   "cell_type": "code",
   "execution_count": null,
   "metadata": {},
   "outputs": [],
   "source": [
    "#Display the first 10 rows of  the timestamp feature\n",
    "train.timestamp.head(10) "
   ]
  },
  {
   "cell_type": "code",
   "execution_count": null,
   "metadata": {},
   "outputs": [],
   "source": [
    "#This code checks the number of years in the dataset. \n",
    "num_of_years =train.timestamp.dt.year.nunique() \n",
    "\n",
    "#This code returns the actual years\n",
    "d_years  = train.timestamp.dt.year.unique()\n",
    "\n",
    "#This code returns the number of unique dates in this dataset\n",
    "unique_dates = train.timestamp.nunique()\n",
    "\n",
    "#This code\n",
    "print(f'This data is collected over --------------------------{num_of_years} years')\n",
    "print(f'These years are ------------------------------------ {d_years}')  \n",
    "print(f'The number of unique dates in this dataset are-------{unique_dates} dates')"
   ]
  },
  {
   "cell_type": "code",
   "execution_count": null,
   "metadata": {},
   "outputs": [],
   "source": [
    "#This code extracts the months from the timestamp \n",
    "month = train.timestamp.dt.month\n",
    "\n",
    "#This groups the months (12 groups) and aggregate the median price of each month (Jan - Dec)\n",
    "grouped_month = train.groupby(month)['price_doc'].aggregate(np.median)\n",
    "\n",
    "#This plots the a Line plot showing the variation of price in each months\n",
    "grouped_month.plot('line', figsize=(15,6))\n",
    "\n",
    "#This labels the axis of the plot\n",
    "plt.xlabel('Month of transaction')\n",
    "plt.ylabel('Median Price (Rubbles)')\n",
    "plt.title('Lineplot of monthly median housing price', fontweight ='bold')\n",
    "plt.show()"
   ]
  },
  {
   "cell_type": "code",
   "execution_count": null,
   "metadata": {},
   "outputs": [],
   "source": [
    "#This code extracts the years from the timestamp \n",
    "years = train.timestamp.dt.year\n",
    "\n",
    "#This groups the years (5 groups) and aggregate the median price of each year (2011 - 2015)\n",
    "grouped_years = train.groupby(years)['price_doc'].aggregate(np.median)\n",
    "\n",
    "#This plots the a Line plot showing the variation of price in each months\n",
    "grouped_years.plot('line', figsize=(15,6))\n",
    "\n",
    "#This labels the axis of the plot\n",
    "plt.xlabel('Year of Transaction')\n",
    "plt.ylabel('Median Price (Rubbles)')\n",
    "plt.title('Lineplot of yearly Median housing price', fontweight = 'bold')\n",
    "plt.show()"
   ]
  },
  {
   "cell_type": "markdown",
   "metadata": {},
   "source": [
    "## THE HOUSING INTERIOR FEATURES\n",
    "\n",
    "\n",
    "\n",
    "- These are features that describe the interior of the buildings "
   ]
  },
  {
   "cell_type": "code",
   "execution_count": null,
   "metadata": {},
   "outputs": [],
   "source": [
    "#Selecting the features that describes the apartment\n",
    "interior_features = ['full_sq', 'life_sq', 'floor', 'max_floor', \n",
    "                    'material', 'build_year', 'num_room',\n",
    "                    'state', 'product_type','price_doc']\n",
    "\n",
    "#Creating seperate dataframe for these features for easy visualisations\n",
    "interior = train[interior_features]"
   ]
  },
  {
   "cell_type": "markdown",
   "metadata": {},
   "source": [
    "### Bivariate/multivariate analysis between a feature or more and the target variable"
   ]
  },
  {
   "cell_type": "markdown",
   "metadata": {},
   "source": [
    "Let's look at the meaning of each feature:"
   ]
  },
  {
   "cell_type": "markdown",
   "metadata": {},
   "source": [
    "<code>- Full_sq feature</code>  - This represents the total square area(m) of the apartment and surroundings.  <br/> \n",
    "<code>- Liv_sq feature</code>   - This represents the square area(m) of the living room. only\n",
    "<br/> \n",
    "<code>- Material feature</code> - This represents the type of material used for interior wall design.\n",
    "<br/> \n",
    "<code>- Max_floor feature</code> - This represents the maximun number of floors in an apartment\n",
    "<br/> \n",
    "<code>- Num_room feature</code> - This represents the number of living rooms in the apartment\n",
    "<br/> \n",
    "<code>- Build_year feature</code> - This represents the year each apartment was built.\n",
    "<br/> \n",
    "<code>- Product_type feature</code> - This represents the what the house is used for: Investment or Owner-Occupier\n",
    "<br/> \n",
    "<code>- State feature</code> - This represents the condition of the apartment.\n",
    "<br/> \n"
   ]
  },
  {
   "cell_type": "code",
   "execution_count": null,
   "metadata": {},
   "outputs": [],
   "source": []
  },
  {
   "cell_type": "markdown",
   "metadata": {},
   "source": [
    "1. <code>- full_sq </code> and <code> lif_sq </code> "
   ]
  },
  {
   "cell_type": "code",
   "execution_count": null,
   "metadata": {},
   "outputs": [],
   "source": [
    "#The 'full_sq' contains outliers which will make our plots invincible and ugly\n",
    "#It also contains anomalies as it doesn't make sense for 'liv_sq' to be greater than 'full_sq'\n",
    "\n",
    "#Hence, this code drops all values of 'full_sq' less than 'life_sq'  \n",
    "interior_clean = interior[interior['full_sq']> interior['life_sq']]\n",
    "\n",
    "#This code drops all values of 'full_sq' greater than 300.\n",
    "interior_clean = interior[interior['full_sq'] < 300]"
   ]
  },
  {
   "cell_type": "code",
   "execution_count": null,
   "metadata": {},
   "outputs": [],
   "source": [
    "#This code groups 'full_sq' and aggregates the median of the price for  each values of the group\n",
    "grouped_sq = interior_clean.groupby('full_sq')['price_doc'].aggregate(np.median)\n",
    "\n",
    "#Plotting a Line plot\n",
    "grouped_sq.plot('line', figsize=(15,5), colormap='rocket')\n",
    "plt.xlabel('Total square Area(m)')\n",
    "plt.ylabel('Median Price(Rubbles)')\n",
    "plt.title('A Line plot of Total Area against median Housing Price', fontweight = 'bold')\n",
    "plt.show()"
   ]
  },
  {
   "cell_type": "markdown",
   "metadata": {},
   "source": [
    "2. <code>- Material </code>"
   ]
  },
  {
   "cell_type": "code",
   "execution_count": null,
   "metadata": {},
   "outputs": [],
   "source": [
    "#The frequency of each material category in the 'material' feature\n",
    "interior.material.value_counts()"
   ]
  },
  {
   "cell_type": "code",
   "execution_count": null,
   "metadata": {},
   "outputs": [],
   "source": [
    "#category '3' is occurs only once which might not do our visualisations any good \n",
    "\n",
    "#Replacing the '3' with the value with highest frequency which is '1'\n",
    "interior.material.replace(3, 1,  inplace= True)"
   ]
  },
  {
   "cell_type": "code",
   "execution_count": null,
   "metadata": {},
   "outputs": [],
   "source": [
    "plt.figure(figsize=(10,5))\n",
    "sns.countplot(interior.material)\n",
    "plt.xlabel('Materials')\n",
    "plt.ylabel('Frequency')\n",
    "plt.title('The frequency of materials ', fontweight = 'bold')\n",
    "plt.show()"
   ]
  },
  {
   "cell_type": "code",
   "execution_count": null,
   "metadata": {},
   "outputs": [],
   "source": [
    "#Average price of 'material' \n",
    "grouped_mat = interior_clean.groupby('material')['price_doc'].aggregate(np.mean)\n",
    "\n",
    "#Plotting a BarChart\n",
    "\n",
    "grouped_mat.sort_values(ascending =  False).plot('bar', figsize=(15,6))\n",
    "plt.xlabel('Interior Materials')\n",
    "plt.ylabel('Average Price(Rubbles)')\n",
    "plt.title('A Bar Chart of Average price of apartments built with various materials',\n",
    "          fontweight = 'bold')\n",
    "plt.show()"
   ]
  },
  {
   "cell_type": "code",
   "execution_count": null,
   "metadata": {},
   "outputs": [],
   "source": [
    "plt.figure(figsize=(20,5))\n",
    "\n",
    "#plotting a pointplot to visualize 'material' against 'price'\n",
    "sns.pointplot('material', 'price_doc', data =interior)\n",
    "plt.xlabel('Materials')\n",
    "plt.ylabel('Average Price(Rubbles)')\n",
    "plt.title('A Point plot of Average price of apartments built with various materials',\n",
    "          fontweight = 'bold')\n",
    "plt.show()"
   ]
  },
  {
   "cell_type": "markdown",
   "metadata": {},
   "source": [
    "3. <code>- state </code>"
   ]
  },
  {
   "cell_type": "code",
   "execution_count": null,
   "metadata": {},
   "outputs": [],
   "source": [
    "#Checking the frequency of  categories of 'state' feature\n",
    "interior.state.value_counts()"
   ]
  },
  {
   "cell_type": "code",
   "execution_count": null,
   "metadata": {},
   "outputs": [],
   "source": [
    "#There is an obvious outlier: '33'. This might be an entry error\n",
    "\n",
    "#Replacing the outlier with a closer number\n",
    "interior.state.replace(33, 3,  inplace= True)"
   ]
  },
  {
   "cell_type": "code",
   "execution_count": null,
   "metadata": {},
   "outputs": [],
   "source": [
    "plt.figure(figsize=(10,5))\n",
    "\n",
    "#Plotting the frequency of 'state'\n",
    "sns.countplot(interior.state)\n",
    "plt.xlabel('The state of the Apartment')\n",
    "plt.ylabel('Frequency')\n",
    "plt.title('The Frequency of the Apartment Condition', fontweight = 'bold')\n",
    "plt.show()"
   ]
  },
  {
   "cell_type": "code",
   "execution_count": null,
   "metadata": {},
   "outputs": [],
   "source": [
    "#Correcting an error in the 'state'\n",
    "interior.state.replace(33, 3,  inplace= True)\n",
    "\n",
    "#Grouping by median price\n",
    "grouped = interior.groupby('state')['price_doc'].aggregate(np.median)\n",
    "\n",
    "\n",
    "#Plotting Bar chart\n",
    "grouped.plot('bar',figsize=(10,6), colormap='Accent_r')\n",
    "plt.xlabel('State of the Apartment')\n",
    "plt.ylabel('Median Prices of Apartments')\n",
    "plt.title('The Median Prices of different Apartment conditions', fontweight = 'bold')\n",
    "plt.show()"
   ]
  },
  {
   "cell_type": "code",
   "execution_count": null,
   "metadata": {},
   "outputs": [],
   "source": [
    "#Relationship between state and materials\n",
    "plt.figure(figsize=(10,5))\n",
    "sns.countplot(x = interior.state, hue = interior.material)\n",
    "plt.xlabel('The state of the Apartment')\n",
    "plt.ylabel('Frequency')\n",
    "plt.title('The Frequency of Materials used with different Apartment Condition',\n",
    "          fontweight = 'bold')\n",
    "plt.show()"
   ]
  },
  {
   "cell_type": "markdown",
   "metadata": {},
   "source": [
    "4. <code>- num_room </code>"
   ]
  },
  {
   "cell_type": "code",
   "execution_count": null,
   "metadata": {},
   "outputs": [],
   "source": [
    "#Checking the frequency of 'num_room'\n",
    "interior.num_room.value_counts()"
   ]
  },
  {
   "cell_type": "code",
   "execution_count": null,
   "metadata": {},
   "outputs": [],
   "source": [
    "# '0' living rooms doesn't make sense, and the frequency of some values ae too small\n",
    "interior_clean = interior[interior['num_room'] < 6 ]\n",
    "interior_clean = interior_clean[interior_clean['num_room'] >0 ]"
   ]
  },
  {
   "cell_type": "code",
   "execution_count": null,
   "metadata": {},
   "outputs": [],
   "source": [
    "#Ploting the frequency of  the  umber of rooms\n",
    "interior_clean.num_room.value_counts().plot('barh',)\n",
    "plt.ylabel('Number of Rooms')\n",
    "plt.xlabel('Frequency')\n",
    "plt.title('The Number of Rooms in Apartment', fontweight = 'bold')\n",
    "plt.show()"
   ]
  },
  {
   "cell_type": "code",
   "execution_count": null,
   "metadata": {},
   "outputs": [],
   "source": [
    "#Grouping by number of rooms by the median price\n",
    "grouped = interior_clean.groupby('num_room')['price_doc'].aggregate(np.median)\n",
    "\n",
    "#plotting a Bar chart\n",
    "grouped.sort_values().plot('line', figsize=(15, 5), colormap='rainbow')\n",
    "plt.xlabel('Number of Rooms')\n",
    "plt.ylabel('Median price (Rubles)')\n",
    "plt.title('The Plot of  the median price price of  the number of rooms in an apartment',fontweight = 'bold')\n",
    "plt.show()"
   ]
  },
  {
   "cell_type": "markdown",
   "metadata": {},
   "source": [
    "5. <code>- floor</code> and <code>max_floor</code>"
   ]
  },
  {
   "cell_type": "code",
   "execution_count": null,
   "metadata": {},
   "outputs": [],
   "source": [
    "#Checking how many 'floor' values are greater than 'max_floor' because those are noise\n",
    "floor_noise = (interior['floor']>interior['max_floor']).sum()\n",
    "\n",
    "print(f'The number of noise in the \"floor\" feature is {floor_noise}')"
   ]
  },
  {
   "cell_type": "code",
   "execution_count": null,
   "metadata": {},
   "outputs": [],
   "source": [
    "#Taking floor values less than or equal tothe max_floor\n",
    "interior_clean = interior[interior['floor'] <= interior['max_floor']]"
   ]
  },
  {
   "cell_type": "code",
   "execution_count": null,
   "metadata": {},
   "outputs": [],
   "source": [
    "#Grouping by number of rooms by the median price\n",
    "grouped_floor = interior_clean.groupby('floor')['price_doc'].aggregate(np.mean)\n",
    "\n",
    "#plotting a Bar chart\n",
    "grouped_floor.sort_values().plot('bar', figsize=(15, 5), colormap='Greens_r')\n",
    "plt.xlabel('Number of Floors')\n",
    "plt.ylabel('Median price (Rubles)')\n",
    "plt.title('The Plot of  the median price price of  the number of rooms in an apartment', fontweight = 'bold')\n",
    "plt.show()"
   ]
  },
  {
   "cell_type": "markdown",
   "metadata": {},
   "source": [
    "6. <code>- build_year</code> "
   ]
  },
  {
   "cell_type": "code",
   "execution_count": null,
   "metadata": {},
   "outputs": [],
   "source": [
    "#Boxplot to checkfo  outliers\n",
    "sns.boxplot(interior.build_year)"
   ]
  },
  {
   "cell_type": "code",
   "execution_count": null,
   "metadata": {},
   "outputs": [],
   "source": [
    "#Dropping outliers for clear visualization\n",
    "interior_clean = interior[interior['build_year'] >1900]\n",
    "interior_clean = interior_clean[interior_clean['build_year'] <3000]"
   ]
  },
  {
   "cell_type": "code",
   "execution_count": null,
   "metadata": {},
   "outputs": [],
   "source": [
    "#Grouping by number of rooms by the median price\n",
    "grouped_year = interior_clean.groupby('build_year')['price_doc'].aggregate(np.mean)\n",
    "\n",
    "#plotting a Bar chart\n",
    "grouped_year.plot('line', figsize=(15, 5), colormap='rainbow')\n",
    "plt.xlabel('year apartments were built')\n",
    "plt.ylabel('Average price (Rubles)')\n",
    "plt.title('A line plot of  the median price of years apartments were built', fontweight = 'bold')\n",
    "plt.show()"
   ]
  },
  {
   "cell_type": "code",
   "execution_count": null,
   "metadata": {},
   "outputs": [],
   "source": [
    "#Visualizing relationships between 'build_year','material' and the 'price'\n",
    "plt.figure(figsize=(15,6))\n",
    "sns.scatterplot('build_year', 'price_doc','material', data = interior_clean, palette='rainbow',legend ='full')\n",
    "plt.xlabel('Year apartment was built')\n",
    "plt.ylabel('Price(Rubles)')\n",
    "plt.title('The  Price of Apartment based on year built',fontweight = 'bold' )\n",
    "\n",
    "plt.show()\n"
   ]
  },
  {
   "cell_type": "code",
   "execution_count": null,
   "metadata": {},
   "outputs": [],
   "source": [
    "#Visualizing relationships between 'build_year','state' and the 'price'\n",
    "plt.figure(figsize=(15,6))\n",
    "sns.scatterplot('build_year', 'price_doc','state', data = interior_clean, palette='rainbow_r',legend ='full')\n",
    "plt.xlabel('Apartment age (Years)')\n",
    "plt.ylabel('Average Price(Rubles)')\n",
    "plt.title('The Average Price of Apartment based on Age', fontweight = 'bold')\n",
    "\n",
    "plt.show()\n"
   ]
  },
  {
   "cell_type": "code",
   "execution_count": null,
   "metadata": {},
   "outputs": [],
   "source": []
  },
  {
   "cell_type": "markdown",
   "metadata": {},
   "source": [
    "7. <code>- Product_type feaure </code>"
   ]
  },
  {
   "cell_type": "code",
   "execution_count": null,
   "metadata": {},
   "outputs": [],
   "source": [
    "#Setting the size of the plot\n",
    "plt.figure(figsize=(8,6))\n",
    "\n",
    "#Plotting a Pie-Chart\n",
    "interior.product_type.value_counts().plot(kind = 'pie',\n",
    "                                          explode =(0.1, 0.0),\n",
    "                                         autopct = '%1.1f%%')\n",
    "plt.title('A Pie-Chart of the Product type', fontweight = 'bold')\n",
    "plt.show()"
   ]
  },
  {
   "cell_type": "code",
   "execution_count": null,
   "metadata": {},
   "outputs": [],
   "source": [
    "#Setting the size of the plot\n",
    "plt.figure(figsize=(8,6))\n",
    "\n",
    "#A Barplot to show average price per product type\n",
    "sns.barplot('product_type', 'price_doc', data = interior)\n",
    "plt.xlabel('Product type')\n",
    "plt.ylabel('Average Price (Rubles)')\n",
    "plt.title('The Average price of Apartment based on Product type', fontweight = 'bold')\n",
    "plt.show()\n"
   ]
  },
  {
   "cell_type": "code",
   "execution_count": null,
   "metadata": {},
   "outputs": [],
   "source": [
    "#Visualizing relationships between 'build_year','product' and the 'price'\n",
    "sns.set_style('white')\n",
    "plt.figure(figsize=(8,6))\n",
    "sns.scatterplot('build_year', 'price_doc','product_type', data = interior_clean, palette='rainbow',legend ='full')\n",
    "plt.xlabel('Apartment age (Years)')\n",
    "plt.ylabel('Average Price(Rubles)')\n",
    "plt.title('The Average Price of Apartment based on Age ', fontweight = 'bold')\n",
    "\n",
    "plt.show()\n"
   ]
  },
  {
   "cell_type": "code",
   "execution_count": null,
   "metadata": {},
   "outputs": [],
   "source": []
  },
  {
   "cell_type": "code",
   "execution_count": null,
   "metadata": {},
   "outputs": [],
   "source": [
    "#Visualizing relationships between 'product_type','floor'\n",
    "plt.figure(figsize=(8,6))\n",
    "sns.barplot('product_type', 'floor', data = interior)\n",
    "plt.xlabel('Apartment type')\n",
    "plt.ylabel('Number of rooms (m)')\n",
    "plt.title('The Average Total Square Area of Apartment based on Type', fontweight = 'bold')\n",
    "plt.show()\n"
   ]
  },
  {
   "cell_type": "code",
   "execution_count": null,
   "metadata": {},
   "outputs": [],
   "source": [
    "#Visualizing relationships between 'product_type','state'\n",
    "plt.figure(figsize=(8,6))\n",
    "sns.countplot('product_type', hue='state', data = interior)\n",
    "plt.xlabel('Apartment type')\n",
    "plt.ylabel('Frequency')\n",
    "plt.title('The Distribution of state of Apartment based on Type', fontweight = 'bold')\n",
    "plt.show()\n"
   ]
  },
  {
   "cell_type": "code",
   "execution_count": null,
   "metadata": {},
   "outputs": [],
   "source": [
    "#Visualizing relationships between 'material' and the 'product_type'\n",
    "plt.figure(figsize=(8,6))\n",
    "sns.countplot('product_type', hue='material', data = interior)\n",
    "plt.xlabel('Apartment type')\n",
    "plt.ylabel('Total Square area (m)')\n",
    "plt.title('The Distribution of state of Apartment based on Type', fontweight = 'bold')\n",
    "plt.show()\n"
   ]
  },
  {
   "cell_type": "code",
   "execution_count": null,
   "metadata": {},
   "outputs": [],
   "source": []
  }
 ],
 "metadata": {
  "kernelspec": {
   "display_name": "Python 3",
   "language": "python",
   "name": "python3"
  },
  "language_info": {
   "codemirror_mode": {
    "name": "ipython",
    "version": 3
   },
   "file_extension": ".py",
   "mimetype": "text/x-python",
   "name": "python",
   "nbconvert_exporter": "python",
   "pygments_lexer": "ipython3",
   "version": "3.7.4"
  }
 },
 "nbformat": 4,
 "nbformat_minor": 2
}
